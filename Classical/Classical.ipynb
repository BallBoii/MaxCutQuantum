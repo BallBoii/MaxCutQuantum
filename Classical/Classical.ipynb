{
 "cells": [
  {
   "cell_type": "code",
   "execution_count": 1,
   "metadata": {},
   "outputs": [],
   "source": [
    "from Utils import graph_tools\n",
    "from Utils.classical_Solver import Classical_Solver\n",
    "import networkx as nx"
   ]
  },
  {
   "cell_type": "code",
   "execution_count": 2,
   "metadata": {},
   "outputs": [],
   "source": [
    "n = 10\n",
    "G = nx.Graph.get_random_graph(n, seed=696969)"
   ]
  },
  {
   "cell_type": "code",
   "execution_count": 3,
   "metadata": {},
   "outputs": [],
   "source": [
    "C = Classical_Solver(G)"
   ]
  },
  {
   "cell_type": "code",
   "execution_count": 5,
   "metadata": {},
   "outputs": [],
   "source": [
    "C.setClient(\"AE/erMi8t10sPo5AROrdjYGG3ZGF3KuCefw\")"
   ]
  },
  {
   "cell_type": "code",
   "execution_count": 6,
   "metadata": {},
   "outputs": [],
   "source": [
    "C.Classical_solve()"
   ]
  },
  {
   "cell_type": "code",
   "execution_count": 7,
   "metadata": {},
   "outputs": [
    {
     "data": {
      "text/plain": [
       "Result({\n",
       "    \"best\": Solution({\n",
       "        \"values\": Values({\n",
       "            Poly(q_0): 0,\n",
       "            Poly(q_1): 1,\n",
       "            Poly(q_2): 0,\n",
       "            Poly(q_3): 1,\n",
       "            Poly(q_4): 0,\n",
       "            Poly(q_5): 0,\n",
       "            Poly(q_6): 1,\n",
       "            Poly(q_7): 0,\n",
       "            Poly(q_8): 1,\n",
       "            Poly(q_9): 0\n",
       "            }),\n",
       "        \"feasible\": true,\n",
       "        \"objective\": -78,\n",
       "        \"time\": datetime.timedelta(microseconds=37791)\n",
       "        }),\n",
       "    \"solutions\": SolutionList([\n",
       "        Solution({\n",
       "            \"values\": Values({\n",
       "                Poly(q_0): 0,\n",
       "                Poly(q_1): 1,\n",
       "                Poly(q_2): 0,\n",
       "                Poly(q_3): 1,\n",
       "                Poly(q_4): 0,\n",
       "                Poly(q_5): 0,\n",
       "                Poly(q_6): 1,\n",
       "                Poly(q_7): 0,\n",
       "                Poly(q_8): 1,\n",
       "                Poly(q_9): 0\n",
       "                }),\n",
       "            \"feasible\": true,\n",
       "            \"objective\": -78,\n",
       "            \"time\": datetime.timedelta(microseconds=37791)\n",
       "            })\n",
       "        ]),\n",
       "    \"filter_solution\": True,\n",
       "    \"num_solves\": 1,\n",
       "    \"intermediate\": ModelConversion({\n",
       "        \"model\": Model({\n",
       "  objective: (x^T) Q x + (p^T) x + c\n",
       "             where:\n",
       "               x = [q_0, q_1, q_2, q_3, q_4, q_5, q_6, q_7, q_8, q_9],\n",
       "               Q = [[ -0.,   8.,  -0.,  16.,  -0.,  -0.,  -0.,  10.,  12.,  -0.],\n",
       "                    [  0.,  -0.,  14.,  -0.,   4.,  -0.,  -0.,  18.,  10.,   6.],\n",
       "                    [  0.,   0.,  -0.,  -0.,  -0.,  -0.,  -0.,   6.,  12.,  -0.],\n",
       "                    [  0.,   0.,   0.,  -0.,   2.,  14.,  18.,  12.,  -0.,  -0.],\n",
       "                    [  0.,   0.,   0.,   0.,  -0.,   4.,  -0.,   4.,   4.,  -0.],\n",
       "                    [  0.,   0.,   0.,   0.,   0.,  -0.,  10.,  -0.,  -0.,   2.],\n",
       "                    [  0.,   0.,   0.,   0.,   0.,   0.,  -0.,  12.,  -0.,   2.],\n",
       "                    [  0.,   0.,   0.,   0.,   0.,   0.,   0.,  -0.,  -0.,  -0.],\n",
       "                    [  0.,   0.,   0.,   0.,   0.,   0.,   0.,   0.,  -0.,  10.],\n",
       "                    [  0.,   0.,   0.,   0.,   0.,   0.,   0.,   0.,   0.,  -0.]],\n",
       "               p = [-23., -30., -16., -31.,  -9., -15., -21., -31., -24., -10.],\n",
       "               c = 0,\n",
       "  constraints: []\n",
       "}),\n",
       "        \"mapping\": IntermediateMapping({\n",
       "            Poly(q_0): Poly(q_0),\n",
       "            Poly(q_1): Poly(q_1),\n",
       "            Poly(q_2): Poly(q_2),\n",
       "            Poly(q_3): Poly(q_3),\n",
       "            Poly(q_4): Poly(q_4),\n",
       "            Poly(q_5): Poly(q_5),\n",
       "            Poly(q_6): Poly(q_6),\n",
       "            Poly(q_7): Poly(q_7),\n",
       "            Poly(q_8): Poly(q_8),\n",
       "            Poly(q_9): Poly(q_9)\n",
       "            }),\n",
       "        \"values_list\": ValuesList([\n",
       "            Values({\n",
       "                Poly(q_0): 0,\n",
       "                Poly(q_1): 1,\n",
       "                Poly(q_2): 0,\n",
       "                Poly(q_3): 1,\n",
       "                Poly(q_4): 0,\n",
       "                Poly(q_5): 0,\n",
       "                Poly(q_6): 1,\n",
       "                Poly(q_7): 0,\n",
       "                Poly(q_8): 1,\n",
       "                Poly(q_9): 0\n",
       "                })\n",
       "            ]),\n",
       "        \"num_variables\": 10\n",
       "        }),\n",
       "    \"embedding\": None,\n",
       "    \"client_result\": FixstarsClient.Result({\n",
       "        \"execution_time\": {\n",
       "            \"annealing_time\": 979.1850089999999,\n",
       "            \"queue_time\": 0.11852299999999999,\n",
       "            \"cpu_time\": 0.6018829999999998,\n",
       "            \"time_stamps\": [\n",
       "                37.791619\n",
       "            ]\n",
       "        },\n",
       "        \"energies\": [\n",
       "            -78.0\n",
       "        ],\n",
       "        \"spins\": [\n",
       "            [\n",
       "                0,\n",
       "                1,\n",
       "                0,\n",
       "                1,\n",
       "                0,\n",
       "                0,\n",
       "                1,\n",
       "                0,\n",
       "                1,\n",
       "                0\n",
       "            ]\n",
       "        ],\n",
       "        \"feasibilities\": [\n",
       "            true\n",
       "        ],\n",
       "        \"execution_parameters\": {\n",
       "            \"num_gpus\": 1,\n",
       "            \"timeout\": 1000,\n",
       "            \"num_iterations\": 15,\n",
       "            \"penalty_calibration\": false,\n",
       "            \"penalty_multipliers\": [],\n",
       "            \"version\": \"v0.8.12-V100\"\n",
       "        },\n",
       "        \"message\": \"\"\n",
       "        }),\n",
       "    \"total_time\": datetime.timedelta(seconds=2, microseconds=387694),\n",
       "    \"execution_time\": datetime.timedelta(microseconds=979185),\n",
       "    \"response_time\": datetime.timedelta(seconds=2, microseconds=360620),\n",
       "    })"
      ]
     },
     "execution_count": 7,
     "metadata": {},
     "output_type": "execute_result"
    }
   ],
   "source": [
    "C.result"
   ]
  },
  {
   "cell_type": "code",
   "execution_count": 8,
   "metadata": {},
   "outputs": [],
   "source": [
    "bit = C.bitstring"
   ]
  },
  {
   "cell_type": "code",
   "execution_count": 9,
   "metadata": {},
   "outputs": [
    {
     "name": "stdout",
     "output_type": "stream",
     "text": [
      "Best spin: [0, 1, 0, 1, 0, 0, 1, 0, 1, 0]\n"
     ]
    }
   ],
   "source": [
    "print(\"Best spin:\", bit)"
   ]
  },
  {
   "cell_type": "code",
   "execution_count": 10,
   "metadata": {},
   "outputs": [
    {
     "data": {
      "text/plain": [
       "78.0"
      ]
     },
     "execution_count": 10,
     "metadata": {},
     "output_type": "execute_result"
    }
   ],
   "source": [
    "C.max_cut_value"
   ]
  }
 ],
 "metadata": {
  "kernelspec": {
   "display_name": "maxcuttest-iYc8dnHX-py3.10",
   "language": "python",
   "name": "python3"
  },
  "language_info": {
   "codemirror_mode": {
    "name": "ipython",
    "version": 3
   },
   "file_extension": ".py",
   "mimetype": "text/x-python",
   "name": "python",
   "nbconvert_exporter": "python",
   "pygments_lexer": "ipython3",
   "version": "3.10.11"
  }
 },
 "nbformat": 4,
 "nbformat_minor": 2
}
